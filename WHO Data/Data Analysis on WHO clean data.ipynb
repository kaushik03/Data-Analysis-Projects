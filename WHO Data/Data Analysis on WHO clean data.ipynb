{
 "cells": [
  {
   "cell_type": "code",
   "execution_count": 1,
   "metadata": {},
   "outputs": [
    {
     "name": "stdout",
     "output_type": "stream",
     "text": [
      "Populating the interactive namespace from numpy and matplotlib\n"
     ]
    }
   ],
   "source": [
    "%pylab inline\n",
    "import pandas as pd\n",
    "import seaborn as sns"
   ]
  },
  {
   "cell_type": "markdown",
   "metadata": {},
   "source": [
    "## Importing Data"
   ]
  },
  {
   "cell_type": "code",
   "execution_count": 2,
   "metadata": {},
   "outputs": [
    {
     "name": "stderr",
     "output_type": "stream",
     "text": [
      "C:\\ProgramData\\Anaconda3\\lib\\site-packages\\IPython\\core\\interactiveshell.py:3071: DtypeWarning: Columns (3) have mixed types.Specify dtype option on import or set low_memory=False.\n",
      "  has_raised = await self.run_ast_nodes(code_ast.body, cell_name,\n"
     ]
    }
   ],
   "source": [
    "df = pd.read_csv(\"WHO_mortality_cleaned.csv\")"
   ]
  },
  {
   "cell_type": "code",
   "execution_count": 3,
   "metadata": {},
   "outputs": [
    {
     "data": {
      "text/html": [
       "<div>\n",
       "<style scoped>\n",
       "    .dataframe tbody tr th:only-of-type {\n",
       "        vertical-align: middle;\n",
       "    }\n",
       "\n",
       "    .dataframe tbody tr th {\n",
       "        vertical-align: top;\n",
       "    }\n",
       "\n",
       "    .dataframe thead th {\n",
       "        text-align: right;\n",
       "    }\n",
       "</style>\n",
       "<table border=\"1\" class=\"dataframe\">\n",
       "  <thead>\n",
       "    <tr style=\"text-align: right;\">\n",
       "      <th></th>\n",
       "      <th>Unnamed: 0</th>\n",
       "      <th>Country</th>\n",
       "      <th>Admin1</th>\n",
       "      <th>SubDiv</th>\n",
       "      <th>Year</th>\n",
       "      <th>List</th>\n",
       "      <th>Cause</th>\n",
       "      <th>Sex</th>\n",
       "      <th>Frmat</th>\n",
       "      <th>IM_Frmat</th>\n",
       "      <th>Deaths1</th>\n",
       "      <th>Infants</th>\n",
       "      <th>Kids</th>\n",
       "      <th>Teenage</th>\n",
       "      <th>Young_Adults</th>\n",
       "      <th>Middle_aged</th>\n",
       "      <th>Old_aged</th>\n",
       "    </tr>\n",
       "  </thead>\n",
       "  <tbody>\n",
       "    <tr>\n",
       "      <th>0</th>\n",
       "      <td>0</td>\n",
       "      <td>1125</td>\n",
       "      <td>0.0</td>\n",
       "      <td>0</td>\n",
       "      <td>1955</td>\n",
       "      <td>07A</td>\n",
       "      <td>A000</td>\n",
       "      <td>M</td>\n",
       "      <td>1</td>\n",
       "      <td>8</td>\n",
       "      <td>107822</td>\n",
       "      <td>40543.0</td>\n",
       "      <td>73969.0</td>\n",
       "      <td>2278.0</td>\n",
       "      <td>2772.0</td>\n",
       "      <td>6205.0</td>\n",
       "      <td>22384.0</td>\n",
       "    </tr>\n",
       "    <tr>\n",
       "      <th>1</th>\n",
       "      <td>1</td>\n",
       "      <td>1125</td>\n",
       "      <td>0.0</td>\n",
       "      <td>0</td>\n",
       "      <td>1955</td>\n",
       "      <td>07A</td>\n",
       "      <td>A000</td>\n",
       "      <td>F</td>\n",
       "      <td>1</td>\n",
       "      <td>8</td>\n",
       "      <td>105750</td>\n",
       "      <td>39632.0</td>\n",
       "      <td>76463.0</td>\n",
       "      <td>1788.0</td>\n",
       "      <td>2240.0</td>\n",
       "      <td>4335.0</td>\n",
       "      <td>20842.0</td>\n",
       "    </tr>\n",
       "    <tr>\n",
       "      <th>2</th>\n",
       "      <td>2</td>\n",
       "      <td>1125</td>\n",
       "      <td>0.0</td>\n",
       "      <td>0</td>\n",
       "      <td>1955</td>\n",
       "      <td>07A</td>\n",
       "      <td>A001</td>\n",
       "      <td>M</td>\n",
       "      <td>1</td>\n",
       "      <td>8</td>\n",
       "      <td>1302</td>\n",
       "      <td>6.0</td>\n",
       "      <td>86.0</td>\n",
       "      <td>107.0</td>\n",
       "      <td>334.0</td>\n",
       "      <td>488.0</td>\n",
       "      <td>286.0</td>\n",
       "    </tr>\n",
       "    <tr>\n",
       "      <th>3</th>\n",
       "      <td>3</td>\n",
       "      <td>1125</td>\n",
       "      <td>0.0</td>\n",
       "      <td>0</td>\n",
       "      <td>1955</td>\n",
       "      <td>07A</td>\n",
       "      <td>A001</td>\n",
       "      <td>F</td>\n",
       "      <td>1</td>\n",
       "      <td>8</td>\n",
       "      <td>739</td>\n",
       "      <td>4.0</td>\n",
       "      <td>88.0</td>\n",
       "      <td>104.0</td>\n",
       "      <td>213.0</td>\n",
       "      <td>247.0</td>\n",
       "      <td>87.0</td>\n",
       "    </tr>\n",
       "    <tr>\n",
       "      <th>4</th>\n",
       "      <td>4</td>\n",
       "      <td>1125</td>\n",
       "      <td>0.0</td>\n",
       "      <td>0</td>\n",
       "      <td>1955</td>\n",
       "      <td>07A</td>\n",
       "      <td>A002</td>\n",
       "      <td>M</td>\n",
       "      <td>1</td>\n",
       "      <td>8</td>\n",
       "      <td>69</td>\n",
       "      <td>7.0</td>\n",
       "      <td>51.0</td>\n",
       "      <td>6.0</td>\n",
       "      <td>5.0</td>\n",
       "      <td>5.0</td>\n",
       "      <td>2.0</td>\n",
       "    </tr>\n",
       "  </tbody>\n",
       "</table>\n",
       "</div>"
      ],
      "text/plain": [
       "   Unnamed: 0  Country  Admin1 SubDiv  Year List Cause Sex  Frmat  IM_Frmat  \\\n",
       "0           0     1125     0.0      0  1955  07A  A000   M      1         8   \n",
       "1           1     1125     0.0      0  1955  07A  A000   F      1         8   \n",
       "2           2     1125     0.0      0  1955  07A  A001   M      1         8   \n",
       "3           3     1125     0.0      0  1955  07A  A001   F      1         8   \n",
       "4           4     1125     0.0      0  1955  07A  A002   M      1         8   \n",
       "\n",
       "   Deaths1  Infants     Kids  Teenage  Young_Adults  Middle_aged  Old_aged  \n",
       "0   107822  40543.0  73969.0   2278.0        2772.0       6205.0   22384.0  \n",
       "1   105750  39632.0  76463.0   1788.0        2240.0       4335.0   20842.0  \n",
       "2     1302      6.0     86.0    107.0         334.0        488.0     286.0  \n",
       "3      739      4.0     88.0    104.0         213.0        247.0      87.0  \n",
       "4       69      7.0     51.0      6.0           5.0          5.0       2.0  "
      ]
     },
     "execution_count": 3,
     "metadata": {},
     "output_type": "execute_result"
    }
   ],
   "source": [
    "df.head()"
   ]
  },
  {
   "cell_type": "code",
   "execution_count": 4,
   "metadata": {},
   "outputs": [],
   "source": [
    "df.drop([\"Unnamed: 0\"], axis = 1, inplace = True)"
   ]
  },
  {
   "cell_type": "code",
   "execution_count": 5,
   "metadata": {},
   "outputs": [
    {
     "data": {
      "text/html": [
       "<div>\n",
       "<style scoped>\n",
       "    .dataframe tbody tr th:only-of-type {\n",
       "        vertical-align: middle;\n",
       "    }\n",
       "\n",
       "    .dataframe tbody tr th {\n",
       "        vertical-align: top;\n",
       "    }\n",
       "\n",
       "    .dataframe thead th {\n",
       "        text-align: right;\n",
       "    }\n",
       "</style>\n",
       "<table border=\"1\" class=\"dataframe\">\n",
       "  <thead>\n",
       "    <tr style=\"text-align: right;\">\n",
       "      <th></th>\n",
       "      <th>Country</th>\n",
       "      <th>Admin1</th>\n",
       "      <th>SubDiv</th>\n",
       "      <th>Year</th>\n",
       "      <th>List</th>\n",
       "      <th>Cause</th>\n",
       "      <th>Sex</th>\n",
       "      <th>Frmat</th>\n",
       "      <th>IM_Frmat</th>\n",
       "      <th>Deaths1</th>\n",
       "      <th>Infants</th>\n",
       "      <th>Kids</th>\n",
       "      <th>Teenage</th>\n",
       "      <th>Young_Adults</th>\n",
       "      <th>Middle_aged</th>\n",
       "      <th>Old_aged</th>\n",
       "    </tr>\n",
       "  </thead>\n",
       "  <tbody>\n",
       "    <tr>\n",
       "      <th>0</th>\n",
       "      <td>1125</td>\n",
       "      <td>0.0</td>\n",
       "      <td>0</td>\n",
       "      <td>1955</td>\n",
       "      <td>07A</td>\n",
       "      <td>A000</td>\n",
       "      <td>M</td>\n",
       "      <td>1</td>\n",
       "      <td>8</td>\n",
       "      <td>107822</td>\n",
       "      <td>40543.0</td>\n",
       "      <td>73969.0</td>\n",
       "      <td>2278.0</td>\n",
       "      <td>2772.0</td>\n",
       "      <td>6205.0</td>\n",
       "      <td>22384.0</td>\n",
       "    </tr>\n",
       "    <tr>\n",
       "      <th>1</th>\n",
       "      <td>1125</td>\n",
       "      <td>0.0</td>\n",
       "      <td>0</td>\n",
       "      <td>1955</td>\n",
       "      <td>07A</td>\n",
       "      <td>A000</td>\n",
       "      <td>F</td>\n",
       "      <td>1</td>\n",
       "      <td>8</td>\n",
       "      <td>105750</td>\n",
       "      <td>39632.0</td>\n",
       "      <td>76463.0</td>\n",
       "      <td>1788.0</td>\n",
       "      <td>2240.0</td>\n",
       "      <td>4335.0</td>\n",
       "      <td>20842.0</td>\n",
       "    </tr>\n",
       "    <tr>\n",
       "      <th>2</th>\n",
       "      <td>1125</td>\n",
       "      <td>0.0</td>\n",
       "      <td>0</td>\n",
       "      <td>1955</td>\n",
       "      <td>07A</td>\n",
       "      <td>A001</td>\n",
       "      <td>M</td>\n",
       "      <td>1</td>\n",
       "      <td>8</td>\n",
       "      <td>1302</td>\n",
       "      <td>6.0</td>\n",
       "      <td>86.0</td>\n",
       "      <td>107.0</td>\n",
       "      <td>334.0</td>\n",
       "      <td>488.0</td>\n",
       "      <td>286.0</td>\n",
       "    </tr>\n",
       "    <tr>\n",
       "      <th>3</th>\n",
       "      <td>1125</td>\n",
       "      <td>0.0</td>\n",
       "      <td>0</td>\n",
       "      <td>1955</td>\n",
       "      <td>07A</td>\n",
       "      <td>A001</td>\n",
       "      <td>F</td>\n",
       "      <td>1</td>\n",
       "      <td>8</td>\n",
       "      <td>739</td>\n",
       "      <td>4.0</td>\n",
       "      <td>88.0</td>\n",
       "      <td>104.0</td>\n",
       "      <td>213.0</td>\n",
       "      <td>247.0</td>\n",
       "      <td>87.0</td>\n",
       "    </tr>\n",
       "    <tr>\n",
       "      <th>4</th>\n",
       "      <td>1125</td>\n",
       "      <td>0.0</td>\n",
       "      <td>0</td>\n",
       "      <td>1955</td>\n",
       "      <td>07A</td>\n",
       "      <td>A002</td>\n",
       "      <td>M</td>\n",
       "      <td>1</td>\n",
       "      <td>8</td>\n",
       "      <td>69</td>\n",
       "      <td>7.0</td>\n",
       "      <td>51.0</td>\n",
       "      <td>6.0</td>\n",
       "      <td>5.0</td>\n",
       "      <td>5.0</td>\n",
       "      <td>2.0</td>\n",
       "    </tr>\n",
       "  </tbody>\n",
       "</table>\n",
       "</div>"
      ],
      "text/plain": [
       "   Country  Admin1 SubDiv  Year List Cause Sex  Frmat  IM_Frmat  Deaths1  \\\n",
       "0     1125     0.0      0  1955  07A  A000   M      1         8   107822   \n",
       "1     1125     0.0      0  1955  07A  A000   F      1         8   105750   \n",
       "2     1125     0.0      0  1955  07A  A001   M      1         8     1302   \n",
       "3     1125     0.0      0  1955  07A  A001   F      1         8      739   \n",
       "4     1125     0.0      0  1955  07A  A002   M      1         8       69   \n",
       "\n",
       "   Infants     Kids  Teenage  Young_Adults  Middle_aged  Old_aged  \n",
       "0  40543.0  73969.0   2278.0        2772.0       6205.0   22384.0  \n",
       "1  39632.0  76463.0   1788.0        2240.0       4335.0   20842.0  \n",
       "2      6.0     86.0    107.0         334.0        488.0     286.0  \n",
       "3      4.0     88.0    104.0         213.0        247.0      87.0  \n",
       "4      7.0     51.0      6.0           5.0          5.0       2.0  "
      ]
     },
     "execution_count": 5,
     "metadata": {},
     "output_type": "execute_result"
    }
   ],
   "source": [
    "df.head()"
   ]
  },
  {
   "cell_type": "code",
   "execution_count": 6,
   "metadata": {},
   "outputs": [
    {
     "data": {
      "text/plain": [
       "array([1955, 1956, 1957, 1958, 1959, 1960, 1961, 1962, 1963, 1964, 1965,\n",
       "       1966, 1967, 1968, 1950, 1951, 1952, 1953, 1954, 1969, 1970, 1971,\n",
       "       1972], dtype=int64)"
      ]
     },
     "execution_count": 6,
     "metadata": {},
     "output_type": "execute_result"
    }
   ],
   "source": [
    "df.Year.unique()"
   ]
  },
  {
   "cell_type": "code",
   "execution_count": 7,
   "metadata": {},
   "outputs": [
    {
     "data": {
      "text/plain": [
       "Country           int64\n",
       "Admin1          float64\n",
       "SubDiv           object\n",
       "Year              int64\n",
       "List             object\n",
       "Cause            object\n",
       "Sex              object\n",
       "Frmat             int64\n",
       "IM_Frmat          int64\n",
       "Deaths1           int64\n",
       "Infants         float64\n",
       "Kids            float64\n",
       "Teenage         float64\n",
       "Young_Adults    float64\n",
       "Middle_aged     float64\n",
       "Old_aged        float64\n",
       "dtype: object"
      ]
     },
     "execution_count": 7,
     "metadata": {},
     "output_type": "execute_result"
    }
   ],
   "source": [
    "df.dtypes"
   ]
  },
  {
   "cell_type": "code",
   "execution_count": 8,
   "metadata": {},
   "outputs": [
    {
     "data": {
      "text/html": [
       "<div>\n",
       "<style scoped>\n",
       "    .dataframe tbody tr th:only-of-type {\n",
       "        vertical-align: middle;\n",
       "    }\n",
       "\n",
       "    .dataframe tbody tr th {\n",
       "        vertical-align: top;\n",
       "    }\n",
       "\n",
       "    .dataframe thead th {\n",
       "        text-align: right;\n",
       "    }\n",
       "</style>\n",
       "<table border=\"1\" class=\"dataframe\">\n",
       "  <thead>\n",
       "    <tr style=\"text-align: right;\">\n",
       "      <th></th>\n",
       "      <th>Country</th>\n",
       "      <th>Admin1</th>\n",
       "      <th>SubDiv</th>\n",
       "      <th>Year</th>\n",
       "      <th>List</th>\n",
       "      <th>Cause</th>\n",
       "      <th>Sex</th>\n",
       "      <th>Frmat</th>\n",
       "      <th>IM_Frmat</th>\n",
       "      <th>Deaths1</th>\n",
       "      <th>Infants</th>\n",
       "      <th>Kids</th>\n",
       "      <th>Teenage</th>\n",
       "      <th>Young_Adults</th>\n",
       "      <th>Middle_aged</th>\n",
       "      <th>Old_aged</th>\n",
       "    </tr>\n",
       "  </thead>\n",
       "  <tbody>\n",
       "    <tr>\n",
       "      <th>0</th>\n",
       "      <td>1125</td>\n",
       "      <td>0.0</td>\n",
       "      <td>0</td>\n",
       "      <td>1955</td>\n",
       "      <td>07A</td>\n",
       "      <td>A000</td>\n",
       "      <td>M</td>\n",
       "      <td>1</td>\n",
       "      <td>8</td>\n",
       "      <td>107822</td>\n",
       "      <td>40543.0</td>\n",
       "      <td>73969.0</td>\n",
       "      <td>2278.0</td>\n",
       "      <td>2772.0</td>\n",
       "      <td>6205.0</td>\n",
       "      <td>22384.0</td>\n",
       "    </tr>\n",
       "    <tr>\n",
       "      <th>1</th>\n",
       "      <td>1125</td>\n",
       "      <td>0.0</td>\n",
       "      <td>0</td>\n",
       "      <td>1955</td>\n",
       "      <td>07A</td>\n",
       "      <td>A000</td>\n",
       "      <td>F</td>\n",
       "      <td>1</td>\n",
       "      <td>8</td>\n",
       "      <td>105750</td>\n",
       "      <td>39632.0</td>\n",
       "      <td>76463.0</td>\n",
       "      <td>1788.0</td>\n",
       "      <td>2240.0</td>\n",
       "      <td>4335.0</td>\n",
       "      <td>20842.0</td>\n",
       "    </tr>\n",
       "    <tr>\n",
       "      <th>2</th>\n",
       "      <td>1125</td>\n",
       "      <td>0.0</td>\n",
       "      <td>0</td>\n",
       "      <td>1955</td>\n",
       "      <td>07A</td>\n",
       "      <td>A001</td>\n",
       "      <td>M</td>\n",
       "      <td>1</td>\n",
       "      <td>8</td>\n",
       "      <td>1302</td>\n",
       "      <td>6.0</td>\n",
       "      <td>86.0</td>\n",
       "      <td>107.0</td>\n",
       "      <td>334.0</td>\n",
       "      <td>488.0</td>\n",
       "      <td>286.0</td>\n",
       "    </tr>\n",
       "    <tr>\n",
       "      <th>3</th>\n",
       "      <td>1125</td>\n",
       "      <td>0.0</td>\n",
       "      <td>0</td>\n",
       "      <td>1955</td>\n",
       "      <td>07A</td>\n",
       "      <td>A001</td>\n",
       "      <td>F</td>\n",
       "      <td>1</td>\n",
       "      <td>8</td>\n",
       "      <td>739</td>\n",
       "      <td>4.0</td>\n",
       "      <td>88.0</td>\n",
       "      <td>104.0</td>\n",
       "      <td>213.0</td>\n",
       "      <td>247.0</td>\n",
       "      <td>87.0</td>\n",
       "    </tr>\n",
       "    <tr>\n",
       "      <th>4</th>\n",
       "      <td>1125</td>\n",
       "      <td>0.0</td>\n",
       "      <td>0</td>\n",
       "      <td>1955</td>\n",
       "      <td>07A</td>\n",
       "      <td>A002</td>\n",
       "      <td>M</td>\n",
       "      <td>1</td>\n",
       "      <td>8</td>\n",
       "      <td>69</td>\n",
       "      <td>7.0</td>\n",
       "      <td>51.0</td>\n",
       "      <td>6.0</td>\n",
       "      <td>5.0</td>\n",
       "      <td>5.0</td>\n",
       "      <td>2.0</td>\n",
       "    </tr>\n",
       "  </tbody>\n",
       "</table>\n",
       "</div>"
      ],
      "text/plain": [
       "   Country  Admin1 SubDiv  Year List Cause Sex  Frmat  IM_Frmat  Deaths1  \\\n",
       "0     1125     0.0      0  1955  07A  A000   M      1         8   107822   \n",
       "1     1125     0.0      0  1955  07A  A000   F      1         8   105750   \n",
       "2     1125     0.0      0  1955  07A  A001   M      1         8     1302   \n",
       "3     1125     0.0      0  1955  07A  A001   F      1         8      739   \n",
       "4     1125     0.0      0  1955  07A  A002   M      1         8       69   \n",
       "\n",
       "   Infants     Kids  Teenage  Young_Adults  Middle_aged  Old_aged  \n",
       "0  40543.0  73969.0   2278.0        2772.0       6205.0   22384.0  \n",
       "1  39632.0  76463.0   1788.0        2240.0       4335.0   20842.0  \n",
       "2      6.0     86.0    107.0         334.0        488.0     286.0  \n",
       "3      4.0     88.0    104.0         213.0        247.0      87.0  \n",
       "4      7.0     51.0      6.0           5.0          5.0       2.0  "
      ]
     },
     "execution_count": 8,
     "metadata": {},
     "output_type": "execute_result"
    }
   ],
   "source": [
    "df_1950s = df[(df[\"Year\"] >= 1955) & (df[\"Year\"] <= 1960)]\n",
    "df_1950s.head()"
   ]
  },
  {
   "cell_type": "code",
   "execution_count": 9,
   "metadata": {},
   "outputs": [
    {
     "data": {
      "text/plain": [
       "array([1955, 1956, 1957, 1958, 1959, 1960], dtype=int64)"
      ]
     },
     "execution_count": 9,
     "metadata": {},
     "output_type": "execute_result"
    }
   ],
   "source": [
    "df_1950s.Year.unique()"
   ]
  },
  {
   "cell_type": "code",
   "execution_count": 10,
   "metadata": {},
   "outputs": [
    {
     "data": {
      "image/png": "[encoded data removed]",
      "text/plain": [
       "<Figure size 432x288 with 1 Axes>"
      ]
     },
     "metadata": {
      "needs_background": "light"
     },
     "output_type": "display_data"
    }
   ],
   "source": [
    "X = \"Year\"\n",
    "Y = \"Deaths1\"\n",
    "ax = sns.barplot(X, Y, data = df_1950s)\n",
    "ax.set(xlabel='Years 1955 - 1960', ylabel='Total Deaths')\n",
    "plt.show()"
   ]
  },
  {
   "cell_type": "markdown",
   "metadata": {},
   "source": [
    "## Deaths Gender wise"
   ]
  },
  {
   "cell_type": "code",
   "execution_count": 11,
   "metadata": {},
   "outputs": [
    {
     "data": {
      "text/html": [
       "<div>\n",
       "<style scoped>\n",
       "    .dataframe tbody tr th:only-of-type {\n",
       "        vertical-align: middle;\n",
       "    }\n",
       "\n",
       "    .dataframe tbody tr th {\n",
       "        vertical-align: top;\n",
       "    }\n",
       "\n",
       "    .dataframe thead th {\n",
       "        text-align: right;\n",
       "    }\n",
       "</style>\n",
       "<table border=\"1\" class=\"dataframe\">\n",
       "  <thead>\n",
       "    <tr style=\"text-align: right;\">\n",
       "      <th></th>\n",
       "      <th>Country</th>\n",
       "      <th>Admin1</th>\n",
       "      <th>SubDiv</th>\n",
       "      <th>Year</th>\n",
       "      <th>List</th>\n",
       "      <th>Cause</th>\n",
       "      <th>Sex</th>\n",
       "      <th>Frmat</th>\n",
       "      <th>IM_Frmat</th>\n",
       "      <th>Deaths1</th>\n",
       "      <th>Infants</th>\n",
       "      <th>Kids</th>\n",
       "      <th>Teenage</th>\n",
       "      <th>Young_Adults</th>\n",
       "      <th>Middle_aged</th>\n",
       "      <th>Old_aged</th>\n",
       "    </tr>\n",
       "  </thead>\n",
       "  <tbody>\n",
       "    <tr>\n",
       "      <th>0</th>\n",
       "      <td>1125</td>\n",
       "      <td>0.0</td>\n",
       "      <td>0</td>\n",
       "      <td>1955</td>\n",
       "      <td>07A</td>\n",
       "      <td>A000</td>\n",
       "      <td>M</td>\n",
       "      <td>1</td>\n",
       "      <td>8</td>\n",
       "      <td>107822</td>\n",
       "      <td>40543.0</td>\n",
       "      <td>73969.0</td>\n",
       "      <td>2278.0</td>\n",
       "      <td>2772.0</td>\n",
       "      <td>6205.0</td>\n",
       "      <td>22384.0</td>\n",
       "    </tr>\n",
       "    <tr>\n",
       "      <th>2</th>\n",
       "      <td>1125</td>\n",
       "      <td>0.0</td>\n",
       "      <td>0</td>\n",
       "      <td>1955</td>\n",
       "      <td>07A</td>\n",
       "      <td>A001</td>\n",
       "      <td>M</td>\n",
       "      <td>1</td>\n",
       "      <td>8</td>\n",
       "      <td>1302</td>\n",
       "      <td>6.0</td>\n",
       "      <td>86.0</td>\n",
       "      <td>107.0</td>\n",
       "      <td>334.0</td>\n",
       "      <td>488.0</td>\n",
       "      <td>286.0</td>\n",
       "    </tr>\n",
       "    <tr>\n",
       "      <th>4</th>\n",
       "      <td>1125</td>\n",
       "      <td>0.0</td>\n",
       "      <td>0</td>\n",
       "      <td>1955</td>\n",
       "      <td>07A</td>\n",
       "      <td>A002</td>\n",
       "      <td>M</td>\n",
       "      <td>1</td>\n",
       "      <td>8</td>\n",
       "      <td>69</td>\n",
       "      <td>7.0</td>\n",
       "      <td>51.0</td>\n",
       "      <td>6.0</td>\n",
       "      <td>5.0</td>\n",
       "      <td>5.0</td>\n",
       "      <td>2.0</td>\n",
       "    </tr>\n",
       "    <tr>\n",
       "      <th>6</th>\n",
       "      <td>1125</td>\n",
       "      <td>0.0</td>\n",
       "      <td>0</td>\n",
       "      <td>1955</td>\n",
       "      <td>07A</td>\n",
       "      <td>A003</td>\n",
       "      <td>M</td>\n",
       "      <td>1</td>\n",
       "      <td>8</td>\n",
       "      <td>100</td>\n",
       "      <td>3.0</td>\n",
       "      <td>35.0</td>\n",
       "      <td>13.0</td>\n",
       "      <td>24.0</td>\n",
       "      <td>19.0</td>\n",
       "      <td>9.0</td>\n",
       "    </tr>\n",
       "    <tr>\n",
       "      <th>8</th>\n",
       "      <td>1125</td>\n",
       "      <td>0.0</td>\n",
       "      <td>0</td>\n",
       "      <td>1955</td>\n",
       "      <td>07A</td>\n",
       "      <td>A004</td>\n",
       "      <td>M</td>\n",
       "      <td>1</td>\n",
       "      <td>8</td>\n",
       "      <td>42</td>\n",
       "      <td>0.0</td>\n",
       "      <td>8.0</td>\n",
       "      <td>7.0</td>\n",
       "      <td>7.0</td>\n",
       "      <td>11.0</td>\n",
       "      <td>9.0</td>\n",
       "    </tr>\n",
       "  </tbody>\n",
       "</table>\n",
       "</div>"
      ],
      "text/plain": [
       "   Country  Admin1 SubDiv  Year List Cause Sex  Frmat  IM_Frmat  Deaths1  \\\n",
       "0     1125     0.0      0  1955  07A  A000   M      1         8   107822   \n",
       "2     1125     0.0      0  1955  07A  A001   M      1         8     1302   \n",
       "4     1125     0.0      0  1955  07A  A002   M      1         8       69   \n",
       "6     1125     0.0      0  1955  07A  A003   M      1         8      100   \n",
       "8     1125     0.0      0  1955  07A  A004   M      1         8       42   \n",
       "\n",
       "   Infants     Kids  Teenage  Young_Adults  Middle_aged  Old_aged  \n",
       "0  40543.0  73969.0   2278.0        2772.0       6205.0   22384.0  \n",
       "2      6.0     86.0    107.0         334.0        488.0     286.0  \n",
       "4      7.0     51.0      6.0           5.0          5.0       2.0  \n",
       "6      3.0     35.0     13.0          24.0         19.0       9.0  \n",
       "8      0.0      8.0      7.0           7.0         11.0       9.0  "
      ]
     },
     "execution_count": 11,
     "metadata": {},
     "output_type": "execute_result"
    }
   ],
   "source": [
    "df_1950s_male = df[(df[\"Year\"] >= 1955) & (df[\"Year\"] <= 1960) & (df[\"Sex\"] == \"M\")] \n",
    "# Can be done using Regex too.\n",
    "df_1950s_male.head()"
   ]
  },
  {
   "cell_type": "code",
   "execution_count": 12,
   "metadata": {},
   "outputs": [
    {
     "data": {
      "image/png": "[encoded data removed]",
      "text/plain": [
       "<Figure size 432x288 with 1 Axes>"
      ]
     },
     "metadata": {
      "needs_background": "light"
     },
     "output_type": "display_data"
    }
   ],
   "source": [
    "X = \"Year\"\n",
    "Y = \"Deaths1\"\n",
    "ax = sns.barplot(X, Y, data = df_1950s_male)\n",
    "ax.set(xlabel='Years 1955 - 1960', ylabel='Total Male Deaths')\n",
    "plt.show()\n"
   ]
  },
  {
   "cell_type": "code",
   "execution_count": 13,
   "metadata": {},
   "outputs": [
    {
     "data": {
      "text/plain": [
       "306140332"
      ]
     },
     "execution_count": 13,
     "metadata": {},
     "output_type": "execute_result"
    }
   ],
   "source": [
    "df[\"Deaths1\"].sum()"
   ]
  },
  {
   "cell_type": "code",
   "execution_count": 14,
   "metadata": {},
   "outputs": [
    {
     "data": {
      "image/png": "[encoded data removed]",
      "text/plain": [
       "<Figure size 432x288 with 1 Axes>"
      ]
     },
     "metadata": {
      "needs_background": "light"
     },
     "output_type": "display_data"
    }
   ],
   "source": [
    "df_1950s_female = df[(df[\"Year\"] >= 1955) & (df[\"Year\"] <= 1960) & (df[\"Sex\"] == \"F\")]\n",
    "df_1950s_female.head()\n",
    "X = \"Year\"\n",
    "Y = \"Deaths1\"\n",
    "ax = sns.barplot(X, Y, data = df_1950s_female)\n",
    "ax.set(xlabel='Years 1955 - 1960', ylabel='Total Female Deaths')\n",
    "plt.show()"
   ]
  },
  {
   "cell_type": "code",
   "execution_count": 15,
   "metadata": {},
   "outputs": [
    {
     "data": {
      "image/png": "[encoded data removed]",
      "text/plain": [
       "<Figure size 432x288 with 1 Axes>"
      ]
     },
     "metadata": {
      "needs_background": "light"
     },
     "output_type": "display_data"
    }
   ],
   "source": [
    "X = \"Year\"\n",
    "Y = \"Teenage\"\n",
    "ax = sns.barplot(X, Y, data = df_1950s)\n",
    "ax.set(xlabel='Years 1955 - 1960', ylabel='Total Deaths')\n",
    "plt.show()"
   ]
  },
  {
   "cell_type": "code",
   "execution_count": 19,
   "metadata": {},
   "outputs": [
    {
     "name": "stdout",
     "output_type": "stream",
     "text": [
      "46113259.0\n",
      "4706266.0\n",
      "7401570.0\n",
      "26061661.0\n",
      "221301640.0\n"
     ]
    }
   ],
   "source": [
    "kids_death= df[\"Kids\"].sum()\n",
    "teen_deaths = df[\"Teenage\"].sum()\n",
    "Young_adults_tot = df[\"Young_Adults\"].sum()\n",
    "Middle_age_tot= df[\"Middle_aged\"].sum()\n",
    "Old_age_tot = df[\"Old_aged\"].sum()\n",
    "\n",
    "print(kids_death)\n",
    "print(teen_deaths)\n",
    "print(Young_adults_tot)\n",
    "print(Middle_age_tot)\n",
    "print(Old_age_tot)"
   ]
  },
  {
   "cell_type": "code",
   "execution_count": null,
   "metadata": {},
   "outputs": [],
   "source": []
  },
  {
   "cell_type": "code",
   "execution_count": null,
   "metadata": {},
   "outputs": [],
   "source": []
  }
 ],
 "metadata": {
  "kernelspec": {
   "display_name": "Python 3",
   "language": "python",
   "name": "python3"
  },
  "language_info": {
   "codemirror_mode": {
    "name": "ipython",
    "version": 3
   },
   "file_extension": ".py",
   "mimetype": "text/x-python",
   "name": "python",
   "nbconvert_exporter": "python",
   "pygments_lexer": "ipython3",
   "version": "3.8.3"
  }
 },
 "nbformat": 4,
 "nbformat_minor": 4
}
